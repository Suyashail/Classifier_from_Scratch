{
  "nbformat": 4,
  "nbformat_minor": 0,
  "metadata": {
    "colab": {
      "name": "Classifier_from_scratch.ipynb",
      "provenance": [],
      "collapsed_sections": [],
      "toc_visible": true
    },
    "kernelspec": {
      "name": "python3",
      "display_name": "Python 3"
    },
    "accelerator": "GPU",
    "widgets": {
      "application/vnd.jupyter.widget-state+json": {
        "089a9bd74dca47b7b05e185aeb9f7e7c": {
          "model_module": "@jupyter-widgets/controls",
          "model_name": "HBoxModel",
          "state": {
            "_view_name": "HBoxView",
            "_dom_classes": [],
            "_model_name": "HBoxModel",
            "_view_module": "@jupyter-widgets/controls",
            "_model_module_version": "1.5.0",
            "_view_count": null,
            "_view_module_version": "1.5.0",
            "box_style": "",
            "layout": "IPY_MODEL_c054c08ba72e4f38a33bef6f2b5020ff",
            "_model_module": "@jupyter-widgets/controls",
            "children": [
              "IPY_MODEL_51e34dfa5b90428fac2045f6f7aa16bf",
              "IPY_MODEL_8f97caf624f7463a898b68a4504251f0"
            ]
          }
        },
        "c054c08ba72e4f38a33bef6f2b5020ff": {
          "model_module": "@jupyter-widgets/base",
          "model_name": "LayoutModel",
          "state": {
            "_view_name": "LayoutView",
            "grid_template_rows": null,
            "right": null,
            "justify_content": null,
            "_view_module": "@jupyter-widgets/base",
            "overflow": null,
            "_model_module_version": "1.2.0",
            "_view_count": null,
            "flex_flow": null,
            "width": null,
            "min_width": null,
            "border": null,
            "align_items": null,
            "bottom": null,
            "_model_module": "@jupyter-widgets/base",
            "top": null,
            "grid_column": null,
            "overflow_y": null,
            "overflow_x": null,
            "grid_auto_flow": null,
            "grid_area": null,
            "grid_template_columns": null,
            "flex": null,
            "_model_name": "LayoutModel",
            "justify_items": null,
            "grid_row": null,
            "max_height": null,
            "align_content": null,
            "visibility": null,
            "align_self": null,
            "height": null,
            "min_height": null,
            "padding": null,
            "grid_auto_rows": null,
            "grid_gap": null,
            "max_width": null,
            "order": null,
            "_view_module_version": "1.2.0",
            "grid_template_areas": null,
            "object_position": null,
            "object_fit": null,
            "grid_auto_columns": null,
            "margin": null,
            "display": null,
            "left": null
          }
        },
        "51e34dfa5b90428fac2045f6f7aa16bf": {
          "model_module": "@jupyter-widgets/controls",
          "model_name": "FloatProgressModel",
          "state": {
            "_view_name": "ProgressView",
            "style": "IPY_MODEL_823783836ccd46b9b805005e98c3b484",
            "_dom_classes": [],
            "description": "",
            "_model_name": "FloatProgressModel",
            "bar_style": "info",
            "max": 1,
            "_view_module": "@jupyter-widgets/controls",
            "_model_module_version": "1.5.0",
            "value": 1,
            "_view_count": null,
            "_view_module_version": "1.5.0",
            "orientation": "horizontal",
            "min": 0,
            "description_tooltip": null,
            "_model_module": "@jupyter-widgets/controls",
            "layout": "IPY_MODEL_861519ec808b41e1a8da69c7226c00b7"
          }
        },
        "8f97caf624f7463a898b68a4504251f0": {
          "model_module": "@jupyter-widgets/controls",
          "model_name": "HTMLModel",
          "state": {
            "_view_name": "HTMLView",
            "style": "IPY_MODEL_db9715cbd9594cb88ec5265543dc0f2b",
            "_dom_classes": [],
            "description": "",
            "_model_name": "HTMLModel",
            "placeholder": "​",
            "_view_module": "@jupyter-widgets/controls",
            "_model_module_version": "1.5.0",
            "value": " 170500096/? [00:20&lt;00:00, 34035871.24it/s]",
            "_view_count": null,
            "_view_module_version": "1.5.0",
            "description_tooltip": null,
            "_model_module": "@jupyter-widgets/controls",
            "layout": "IPY_MODEL_630a03ced15e44a3b47660e42636faa9"
          }
        },
        "823783836ccd46b9b805005e98c3b484": {
          "model_module": "@jupyter-widgets/controls",
          "model_name": "ProgressStyleModel",
          "state": {
            "_view_name": "StyleView",
            "_model_name": "ProgressStyleModel",
            "description_width": "initial",
            "_view_module": "@jupyter-widgets/base",
            "_model_module_version": "1.5.0",
            "_view_count": null,
            "_view_module_version": "1.2.0",
            "bar_color": null,
            "_model_module": "@jupyter-widgets/controls"
          }
        },
        "861519ec808b41e1a8da69c7226c00b7": {
          "model_module": "@jupyter-widgets/base",
          "model_name": "LayoutModel",
          "state": {
            "_view_name": "LayoutView",
            "grid_template_rows": null,
            "right": null,
            "justify_content": null,
            "_view_module": "@jupyter-widgets/base",
            "overflow": null,
            "_model_module_version": "1.2.0",
            "_view_count": null,
            "flex_flow": null,
            "width": null,
            "min_width": null,
            "border": null,
            "align_items": null,
            "bottom": null,
            "_model_module": "@jupyter-widgets/base",
            "top": null,
            "grid_column": null,
            "overflow_y": null,
            "overflow_x": null,
            "grid_auto_flow": null,
            "grid_area": null,
            "grid_template_columns": null,
            "flex": null,
            "_model_name": "LayoutModel",
            "justify_items": null,
            "grid_row": null,
            "max_height": null,
            "align_content": null,
            "visibility": null,
            "align_self": null,
            "height": null,
            "min_height": null,
            "padding": null,
            "grid_auto_rows": null,
            "grid_gap": null,
            "max_width": null,
            "order": null,
            "_view_module_version": "1.2.0",
            "grid_template_areas": null,
            "object_position": null,
            "object_fit": null,
            "grid_auto_columns": null,
            "margin": null,
            "display": null,
            "left": null
          }
        },
        "db9715cbd9594cb88ec5265543dc0f2b": {
          "model_module": "@jupyter-widgets/controls",
          "model_name": "DescriptionStyleModel",
          "state": {
            "_view_name": "StyleView",
            "_model_name": "DescriptionStyleModel",
            "description_width": "",
            "_view_module": "@jupyter-widgets/base",
            "_model_module_version": "1.5.0",
            "_view_count": null,
            "_view_module_version": "1.2.0",
            "_model_module": "@jupyter-widgets/controls"
          }
        },
        "630a03ced15e44a3b47660e42636faa9": {
          "model_module": "@jupyter-widgets/base",
          "model_name": "LayoutModel",
          "state": {
            "_view_name": "LayoutView",
            "grid_template_rows": null,
            "right": null,
            "justify_content": null,
            "_view_module": "@jupyter-widgets/base",
            "overflow": null,
            "_model_module_version": "1.2.0",
            "_view_count": null,
            "flex_flow": null,
            "width": null,
            "min_width": null,
            "border": null,
            "align_items": null,
            "bottom": null,
            "_model_module": "@jupyter-widgets/base",
            "top": null,
            "grid_column": null,
            "overflow_y": null,
            "overflow_x": null,
            "grid_auto_flow": null,
            "grid_area": null,
            "grid_template_columns": null,
            "flex": null,
            "_model_name": "LayoutModel",
            "justify_items": null,
            "grid_row": null,
            "max_height": null,
            "align_content": null,
            "visibility": null,
            "align_self": null,
            "height": null,
            "min_height": null,
            "padding": null,
            "grid_auto_rows": null,
            "grid_gap": null,
            "max_width": null,
            "order": null,
            "_view_module_version": "1.2.0",
            "grid_template_areas": null,
            "object_position": null,
            "object_fit": null,
            "grid_auto_columns": null,
            "margin": null,
            "display": null,
            "left": null
          }
        }
      }
    }
  },
  "cells": [
    {
      "cell_type": "code",
      "metadata": {
        "id": "6zpnXGbfnvof",
        "colab_type": "code",
        "colab": {}
      },
      "source": [
        "#import all necessary packages\n",
        "import torch"
      ],
      "execution_count": 0,
      "outputs": []
    },
    {
      "cell_type": "code",
      "metadata": {
        "id": "ILyH620ETswN",
        "colab_type": "code",
        "colab": {}
      },
      "source": [
        "import torchvision\n",
        "import numpy as np\n",
        "import torchvision.transforms as tvt\n",
        "import matplotlib.pyplot as plt\n"
      ],
      "execution_count": 0,
      "outputs": []
    },
    {
      "cell_type": "code",
      "metadata": {
        "id": "CR5p75v1y-3N",
        "colab_type": "code",
        "colab": {}
      },
      "source": [
        "transform=tvt.Compose([tvt.ToTensor(),tvt.Normalize((0.5,0.5,0.5),(0.5,0.5,0.5))])   #normalise all images with mean and variance=0.5"
      ],
      "execution_count": 0,
      "outputs": []
    },
    {
      "cell_type": "code",
      "metadata": {
        "id": "KEjbfl4F3U1R",
        "colab_type": "code",
        "outputId": "83a0c1a7-07a1-43f4-de4b-ab570d8434a1",
        "colab": {
          "base_uri": "https://localhost:8080/",
          "height": 104,
          "referenced_widgets": [
            "089a9bd74dca47b7b05e185aeb9f7e7c",
            "c054c08ba72e4f38a33bef6f2b5020ff",
            "51e34dfa5b90428fac2045f6f7aa16bf",
            "8f97caf624f7463a898b68a4504251f0",
            "823783836ccd46b9b805005e98c3b484",
            "861519ec808b41e1a8da69c7226c00b7",
            "db9715cbd9594cb88ec5265543dc0f2b",
            "630a03ced15e44a3b47660e42636faa9"
          ]
        }
      },
      "source": [
        "#download the CiFAR10 dataset\n",
        "train_data_loc=torchvision.datasets.CIFAR10(root='./data', train=True,download=True, transform=transform)\n",
        "test_data_loc = torchvision.datasets.CIFAR10(root='./data', train=False,download=True,transform=transform)"
      ],
      "execution_count": 4,
      "outputs": [
        {
          "output_type": "stream",
          "text": [
            "Downloading https://www.cs.toronto.edu/~kriz/cifar-10-python.tar.gz to ./data/cifar-10-python.tar.gz\n"
          ],
          "name": "stdout"
        },
        {
          "output_type": "display_data",
          "data": {
            "application/vnd.jupyter.widget-view+json": {
              "model_id": "089a9bd74dca47b7b05e185aeb9f7e7c",
              "version_minor": 0,
              "version_major": 2
            },
            "text/plain": [
              "HBox(children=(FloatProgress(value=1.0, bar_style='info', max=1.0), HTML(value='')))"
            ]
          },
          "metadata": {
            "tags": []
          }
        },
        {
          "output_type": "stream",
          "text": [
            "Extracting ./data/cifar-10-python.tar.gz to ./data\n",
            "Files already downloaded and verified\n"
          ],
          "name": "stdout"
        }
      ]
    },
    {
      "cell_type": "code",
      "metadata": {
        "id": "nijBjPgL98sY",
        "colab_type": "code",
        "colab": {}
      },
      "source": [
        "## from the given dataset separate out cats and dogs images.\n",
        "\n",
        "#find the images with labels 3=cats and 5=dogs\n",
        "lst=[]\n",
        "for i in range(len(train_data_loc.targets)):\n",
        "  if train_data_loc.targets[i]==3 or train_data_loc.targets[i]==5:\n",
        "    lst.append(i)"
      ],
      "execution_count": 0,
      "outputs": []
    },
    {
      "cell_type": "code",
      "metadata": {
        "id": "TrN6y4d0-oY4",
        "colab_type": "code",
        "colab": {}
      },
      "source": [
        "#create a subset of the CiFAR10 dataset\n",
        "cats_dogs=torch.utils.data.Subset(train_data_loc,lst)"
      ],
      "execution_count": 0,
      "outputs": []
    },
    {
      "cell_type": "code",
      "metadata": {
        "id": "S35IQkcj_Dm8",
        "colab_type": "code",
        "colab": {}
      },
      "source": [
        "#create the dataloader\n",
        "trainloader=torch.utils.data.DataLoader(cats_dogs, batch_size=5,shuffle=True,worker_init_fn=2)"
      ],
      "execution_count": 0,
      "outputs": []
    },
    {
      "cell_type": "code",
      "metadata": {
        "id": "aMXirIIPMt-t",
        "colab_type": "code",
        "colab": {
          "base_uri": "https://localhost:8080/",
          "height": 139
        },
        "outputId": "5763bedc-48ce-49a9-8a9e-a6c917d9c87b"
      },
      "source": [
        "def imshow(img):\n",
        "    img = img / 2 + 0.5     # unnormalize\n",
        "    npimg = img.numpy()\n",
        "    plt.imshow(np.transpose(npimg, (1, 2, 0)))\n",
        "    plt.show()\n",
        "\n",
        "\n",
        "# get some random training images\n",
        "dataiter = iter(trainloader)\n",
        "images, labels = dataiter.next()\n",
        "\n",
        "# show images\n",
        "imshow(torchvision.utils.make_grid(images))\n",
        "# print labels\n",
        "print(' '.join('%5s' % labels[j] for j in range(5)))"
      ],
      "execution_count": 21,
      "outputs": [
        {
          "output_type": "display_data",
          "data": {
            "image/png": "[encoded data removed]",
            "text/plain": [
              "<Figure size 432x288 with 1 Axes>"
            ]
          },
          "metadata": {
            "tags": [],
            "needs_background": "light"
          }
        },
        {
          "output_type": "stream",
          "text": [
            "tensor(3) tensor(3) tensor(3) tensor(3) tensor(5)\n"
          ],
          "name": "stdout"
        }
      ]
    },
    {
      "cell_type": "code",
      "metadata": {
        "id": "R35fGwCZ_RRK",
        "colab_type": "code",
        "colab": {}
      },
      "source": [
        "dtype = torch.float"
      ],
      "execution_count": 0,
      "outputs": []
    },
    {
      "cell_type": "code",
      "metadata": {
        "id": "YFWj68QV_Vgj",
        "colab_type": "code",
        "colab": {}
      },
      "source": [
        "#The network consists of 2 hidden layers with 1000 and 256 neurons\n",
        "N, D_in, H1, H2, D_out = 8, 3*32*32, 1000, 256, 2\n",
        "# Randomly initialize weights\n",
        "w1 = torch.randn(D_in, H1, dtype=dtype)\n",
        "w2 = torch.randn(H1, H2, dtype=dtype)\n",
        "w3 = torch.randn(H2, D_out, dtype=dtype)\n",
        "learning_rate = 1e-8\n"
      ],
      "execution_count": 0,
      "outputs": []
    },
    {
      "cell_type": "code",
      "metadata": {
        "id": "uwWo7Y8v_YGN",
        "colab_type": "code",
        "outputId": "3df6afd3-36aa-4b01-c702-cc665682cfda",
        "colab": {
          "base_uri": "https://localhost:8080/",
          "height": 1000
        }
      },
      "source": [
        "#create a Fully Connected Network from scratch\n",
        "loss_data=[]\n",
        "for t in range(50):\n",
        "  loss=0\n",
        "  loss1=0\n",
        "  for i, data in enumerate(trainloader):\n",
        "    inputs, labels = data\n",
        "    x = inputs.view(inputs.size(0), -1)               #flatten the image from a matrix to a vector\n",
        "    y=labels.clone()\n",
        "\n",
        "    #change labels to 0,1\n",
        "    for i in range(len(y)):\n",
        "      if y[i]==3:\n",
        "        y[i]=0\n",
        "      elif y[i]==5:\n",
        "        y[i]=1\n",
        "    \n",
        "    #one hot encode the labels\n",
        "    y=torch.nn.functional.one_hot(y,2)\n",
        "\n",
        "    #build the network\n",
        "    h1 = x.mm(w1) ## In numpy, you would say h1 = x.dot(w1)\n",
        "    h1_relu = h1.clamp(min=0)\n",
        "    h2 = h1_relu.mm(w2)\n",
        "    h2_relu = h2.clamp(min=0)\n",
        "    y_pred = h2_relu.mm(w3)\n",
        "    loss = ((y_pred - y).pow(2).sum().item())/5               #define the MSE loss\n",
        "    #if t%10==1:\n",
        "      #print(loss)\n",
        "    y_error = (y_pred - y)/5\n",
        "\n",
        "#find the gradients and update the weights\n",
        "    grad_w3 = h2_relu.t().mm(2 * y_error)\n",
        "    h2_error = 2.0 * y_error.mm(w3.t())\n",
        "    h2_error[h2 < 0] = 0\n",
        "  \n",
        "\n",
        "    grad_w2 = h1_relu.t().mm(h2_error)\n",
        "    h1_error = h2_error.mm(w2.t())\n",
        "    h1_error[h1 < 0] = 0\n",
        "\n",
        "    grad_w1 = x.t().mm(h1_error)\n",
        "\n",
        "    w1 -= learning_rate * grad_w1\n",
        "    w2 -= learning_rate * grad_w2\n",
        "    w3 -= learning_rate * grad_w3\n",
        "    loss1=loss1+(loss/2000)  \n",
        "  print(loss1)\n",
        "  loss_data.append(loss1)\n",
        "  \n",
        "plt.plot(loss_data)\n",
        "  \n"
      ],
      "execution_count": 11,
      "outputs": [
        {
          "output_type": "stream",
          "text": [
            "138238.01223242196\n",
            "79824.50870957036\n",
            "51917.18528476557\n",
            "36820.72265166015\n",
            "27654.157197851586\n",
            "21708.64196418459\n",
            "17566.40522470706\n",
            "14548.827631713872\n",
            "12380.247983703603\n",
            "10666.07585622559\n",
            "9259.589579138192\n",
            "8121.278355969234\n",
            "7219.238230889888\n",
            "6459.815556127925\n",
            "5840.330846813963\n",
            "5307.122729641721\n",
            "4843.5438892700195\n",
            "4450.783053593446\n",
            "4093.2664968261683\n",
            "3790.3003427185067\n",
            "3520.125917738344\n",
            "3278.9082156814516\n",
            "3046.7411152084405\n",
            "2864.0591418243403\n",
            "2693.8204948089615\n",
            "2541.3155092865045\n",
            "2402.866537853996\n",
            "2267.283723156739\n",
            "2155.7145505218477\n",
            "2045.512149747465\n",
            "1945.3530616699204\n",
            "1848.5324559524524\n",
            "1777.3064413948064\n",
            "1695.7112546676626\n",
            "1620.1165748847943\n",
            "1551.0791191650378\n",
            "1488.1021800971982\n",
            "1423.0005251022337\n",
            "1376.6343185928379\n",
            "1317.0694941520685\n",
            "1272.3375582229573\n",
            "1227.4963665237403\n",
            "1183.720176828005\n",
            "1143.8563141696916\n",
            "1104.7911038909901\n",
            "1061.3249482902522\n",
            "1028.466192876434\n",
            "1001.1438100219734\n",
            "967.039320084761\n",
            "934.8876352455123\n"
          ],
          "name": "stdout"
        },
        {
          "output_type": "execute_result",
          "data": {
            "text/plain": [
              "[<matplotlib.lines.Line2D at 0x7f2bc1758898>]"
            ]
          },
          "metadata": {
            "tags": []
          },
          "execution_count": 11
        },
        {
          "output_type": "display_data",
          "data": {
            "image/png": "[encoded data removed]",
            "text/plain": [
              "<Figure size 432x288 with 1 Axes>"
            ]
          },
          "metadata": {
            "tags": [],
            "needs_background": "light"
          }
        }
      ]
    },
    {
      "cell_type": "code",
      "metadata": {
        "id": "wd7Dl_0YFdzb",
        "colab_type": "code",
        "colab": {}
      },
      "source": [
        "#Testing the model\n",
        "lst1=[]\n",
        "for i in range(len(test_data_loc.targets)):\n",
        "  if test_data_loc.targets[i]==3 or test_data_loc.targets[i]==5:\n",
        "    lst1.append(i)\n"
      ],
      "execution_count": 0,
      "outputs": []
    },
    {
      "cell_type": "code",
      "metadata": {
        "id": "npRnr0nNGyNb",
        "colab_type": "code",
        "colab": {}
      },
      "source": [
        "cats_dogs_test=torch.utils.data.Subset(test_data_loc,lst1)\n",
        "testloader=torch.utils.data.DataLoader(cats_dogs_test, batch_size=5,shuffle=False,worker_init_fn=2)"
      ],
      "execution_count": 0,
      "outputs": []
    },
    {
      "cell_type": "code",
      "metadata": {
        "id": "qUjmrZJ5HQFn",
        "colab_type": "code",
        "outputId": "718b3c91-945d-43a4-daa4-da99b6b70c04",
        "colab": {
          "base_uri": "https://localhost:8080/",
          "height": 55
        }
      },
      "source": [
        "right=0\n",
        "conf_mat=np.zeros([2,2])\n",
        "for i, data in enumerate(testloader):\n",
        "    ynew=[]\n",
        "    inputs, labels = data\n",
        "    x = inputs.view(inputs.size(0), -1)\n",
        "    y=labels.clone()\n",
        "    for i in range(len(y)):\n",
        "      if y[i]==3:\n",
        "        y[i]=0\n",
        "      elif y[i]==5:\n",
        "        y[i]=1\n",
        "    yline=y.clone()\n",
        "    y=torch.nn.functional.one_hot(y,2)\n",
        "    h1 = x.mm(w1) ## In numpy, you would say h1 = x.dot(w1)\n",
        "    h1_relu = h1.clamp(min=0)\n",
        "    h2 = h1_relu.mm(w2)\n",
        "    h2_relu = h2.clamp(min=0)\n",
        "    y_pred = h2_relu.mm(w3)\n",
        "    y_sm=torch.nn.functional.softmax(y_pred)\n",
        "    #decide which class the output belongs to\n",
        "    for cr,dr in y_sm:\n",
        "      if cr>dr:\n",
        "        ynew.append(0)\n",
        "      else:\n",
        "        ynew.append(1)\n",
        "    \n",
        "    #accuracy\n",
        "    for k in range(len(ynew)):\n",
        "      if yline[k]==ynew[k]:\n",
        "        right+=1\n",
        "    \n",
        "    #confusion matrix\n",
        "    for k in range(len(ynew)):\n",
        "      conf_mat[yline[k]][ynew[k]]+=1\n",
        "    "
      ],
      "execution_count": 25,
      "outputs": [
        {
          "output_type": "stream",
          "text": [
            "/usr/local/lib/python3.6/dist-packages/ipykernel_launcher.py:20: UserWarning: Implicit dimension choice for softmax has been deprecated. Change the call to include dim=X as an argument.\n"
          ],
          "name": "stderr"
        }
      ]
    },
    {
      "cell_type": "code",
      "metadata": {
        "id": "sxgvFAY8Iuz8",
        "colab_type": "code",
        "colab": {
          "base_uri": "https://localhost:8080/",
          "height": 54
        },
        "outputId": "0d079ceb-7c80-41da-c9ab-71d5a31fc995"
      },
      "source": [
        "accuracy=right/len(cats_dogs_test)\n",
        "print(conf_mat)"
      ],
      "execution_count": 26,
      "outputs": [
        {
          "output_type": "stream",
          "text": [
            "[[ 97. 903.]\n",
            " [ 97. 903.]]\n"
          ],
          "name": "stdout"
        }
      ]
    },
    {
      "cell_type": "code",
      "metadata": {
        "id": "HvvFGiolKNBu",
        "colab_type": "code",
        "colab": {}
      },
      "source": [
        "import sys\n",
        "\n",
        "orig_stdout = sys.stdout\n",
        "f = open('output.txt', 'w')\n",
        "sys.stdout = f\n",
        "\n",
        "for i in range(len(loss_data)):\n",
        "  print('Epoch '+str(i)+': '+str(loss_data[i]))\n",
        "print()\n",
        "print('Test Accuracy :'+str(accuracy*100))\n",
        "\n",
        "sys.stdout = orig_stdout\n",
        "f.close()"
      ],
      "execution_count": 0,
      "outputs": []
    },
    {
      "cell_type": "code",
      "metadata": {
        "id": "nWZEgtPXNtK5",
        "colab_type": "code",
        "colab": {}
      },
      "source": [
        ""
      ],
      "execution_count": 0,
      "outputs": []
    }
  ]
}